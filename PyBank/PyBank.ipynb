{
 "cells": [
  {
   "cell_type": "code",
   "execution_count": 1,
   "id": "22ca9378",
   "metadata": {},
   "outputs": [],
   "source": [
    "import pandas as pd\n",
    "import numpy as np\n",
    "import os"
   ]
  },
  {
   "cell_type": "code",
   "execution_count": 2,
   "id": "7b8b6de9",
   "metadata": {},
   "outputs": [],
   "source": [
    "budget_data = pd.read_csv(\"budget_data.csv\")"
   ]
  },
  {
   "cell_type": "code",
   "execution_count": 3,
   "id": "3db0736e",
   "metadata": {},
   "outputs": [
    {
     "data": {
      "text/html": [
       "<div>\n",
       "<style scoped>\n",
       "    .dataframe tbody tr th:only-of-type {\n",
       "        vertical-align: middle;\n",
       "    }\n",
       "\n",
       "    .dataframe tbody tr th {\n",
       "        vertical-align: top;\n",
       "    }\n",
       "\n",
       "    .dataframe thead th {\n",
       "        text-align: right;\n",
       "    }\n",
       "</style>\n",
       "<table border=\"1\" class=\"dataframe\">\n",
       "  <thead>\n",
       "    <tr style=\"text-align: right;\">\n",
       "      <th></th>\n",
       "      <th>Date</th>\n",
       "      <th>Profit/Losses</th>\n",
       "    </tr>\n",
       "  </thead>\n",
       "  <tbody>\n",
       "    <tr>\n",
       "      <th>0</th>\n",
       "      <td>Jan-10</td>\n",
       "      <td>1088983</td>\n",
       "    </tr>\n",
       "    <tr>\n",
       "      <th>1</th>\n",
       "      <td>Feb-10</td>\n",
       "      <td>-354534</td>\n",
       "    </tr>\n",
       "    <tr>\n",
       "      <th>2</th>\n",
       "      <td>Mar-10</td>\n",
       "      <td>276622</td>\n",
       "    </tr>\n",
       "    <tr>\n",
       "      <th>3</th>\n",
       "      <td>Apr-10</td>\n",
       "      <td>-728133</td>\n",
       "    </tr>\n",
       "    <tr>\n",
       "      <th>4</th>\n",
       "      <td>May-10</td>\n",
       "      <td>852993</td>\n",
       "    </tr>\n",
       "    <tr>\n",
       "      <th>...</th>\n",
       "      <td>...</td>\n",
       "      <td>...</td>\n",
       "    </tr>\n",
       "    <tr>\n",
       "      <th>81</th>\n",
       "      <td>Oct-16</td>\n",
       "      <td>-729004</td>\n",
       "    </tr>\n",
       "    <tr>\n",
       "      <th>82</th>\n",
       "      <td>Nov-16</td>\n",
       "      <td>-112209</td>\n",
       "    </tr>\n",
       "    <tr>\n",
       "      <th>83</th>\n",
       "      <td>Dec-16</td>\n",
       "      <td>516313</td>\n",
       "    </tr>\n",
       "    <tr>\n",
       "      <th>84</th>\n",
       "      <td>Jan-17</td>\n",
       "      <td>607208</td>\n",
       "    </tr>\n",
       "    <tr>\n",
       "      <th>85</th>\n",
       "      <td>Feb-17</td>\n",
       "      <td>382539</td>\n",
       "    </tr>\n",
       "  </tbody>\n",
       "</table>\n",
       "<p>86 rows × 2 columns</p>\n",
       "</div>"
      ],
      "text/plain": [
       "      Date  Profit/Losses\n",
       "0   Jan-10        1088983\n",
       "1   Feb-10        -354534\n",
       "2   Mar-10         276622\n",
       "3   Apr-10        -728133\n",
       "4   May-10         852993\n",
       "..     ...            ...\n",
       "81  Oct-16        -729004\n",
       "82  Nov-16        -112209\n",
       "83  Dec-16         516313\n",
       "84  Jan-17         607208\n",
       "85  Feb-17         382539\n",
       "\n",
       "[86 rows x 2 columns]"
      ]
     },
     "execution_count": 3,
     "metadata": {},
     "output_type": "execute_result"
    }
   ],
   "source": [
    "budget_data"
   ]
  },
  {
   "cell_type": "code",
   "execution_count": 4,
   "id": "93a722a3",
   "metadata": {},
   "outputs": [
    {
     "data": {
      "text/plain": [
       "0     Jan-10\n",
       "1     Feb-10\n",
       "2     Mar-10\n",
       "3     Apr-10\n",
       "4     May-10\n",
       "       ...  \n",
       "81    Oct-16\n",
       "82    Nov-16\n",
       "83    Dec-16\n",
       "84    Jan-17\n",
       "85    Feb-17\n",
       "Name: Date, Length: 86, dtype: object"
      ]
     },
     "execution_count": 4,
     "metadata": {},
     "output_type": "execute_result"
    }
   ],
   "source": [
    "budget_data['Date']"
   ]
  },
  {
   "cell_type": "code",
   "execution_count": 5,
   "id": "8c138cdd",
   "metadata": {},
   "outputs": [],
   "source": [
    "number_months = len(budget_data['Date'].unique())\n",
    "#number_months"
   ]
  },
  {
   "cell_type": "code",
   "execution_count": 6,
   "id": "858caa2e",
   "metadata": {},
   "outputs": [],
   "source": [
    "total_pl = budget_data['Profit/Losses'].sum()"
   ]
  },
  {
   "cell_type": "code",
   "execution_count": 7,
   "id": "36fe65a0",
   "metadata": {},
   "outputs": [],
   "source": [
    "avg_diff = np.diff(budget_data['Profit/Losses']).mean()"
   ]
  },
  {
   "cell_type": "code",
   "execution_count": 8,
   "id": "be0a1470",
   "metadata": {},
   "outputs": [],
   "source": [
    "budget_data['Profit/Losses'] = budget_data['Profit/Losses'].diff()\n",
    "#budget_data"
   ]
  },
  {
   "cell_type": "code",
   "execution_count": 9,
   "id": "b53ee2a0",
   "metadata": {},
   "outputs": [],
   "source": [
    "\n",
    "largest_gain = budget_data[budget_data['Profit/Losses'] == budget_data['Profit/Losses'].max()]\n",
    "\n",
    "# Finding the greatest loss and its associated date\n",
    "greatest_loss = budget_data[budget_data['Profit/Losses'] == budget_data['Profit/Losses'].min()]\n"
   ]
  },
  {
   "cell_type": "code",
   "execution_count": 28,
   "id": "deb7587e",
   "metadata": {},
   "outputs": [
    {
     "name": "stdout",
     "output_type": "stream",
     "text": [
      "Financial Analysis\n",
      "------------------------\n",
      "Total Months:  86\n",
      "Total: $ 22564198\n",
      "Average Change: $ -8311.11\n",
      "Greatest Increase In Profits:\n",
      "Aug-16 ($ 1862002.0 )\n",
      "\n",
      "Greatest Decrease In Profits:\n",
      "Feb-14 ($ -1825558.0 )\n"
     ]
    }
   ],
   "source": [
    "print('Financial Analysis')\n",
    "print('------------------------')\n",
    "print('Total Months: ',number_months)\n",
    "print(\"Total: $\",total_pl)\n",
    "print(\"Average Change: $\", round(avg_diff,2))\n",
    "print(\"Greatest Increase In Profits:\")\n",
    "print(list(largest_gain['Date'])[0],\"($\",list(largest_gain['Profit/Losses'])[0], \")\")\n",
    "print(\"\\nGreatest Decrease In Profits:\")\n",
    "print(list(greatest_loss['Date'])[0],\"($\",list(greatest_loss['Profit/Losses'])[0], \")\")"
   ]
  },
  {
   "cell_type": "code",
   "execution_count": 22,
   "id": "15cfe326",
   "metadata": {},
   "outputs": [
    {
     "data": {
      "text/plain": [
       "1862002.0"
      ]
     },
     "execution_count": 22,
     "metadata": {},
     "output_type": "execute_result"
    }
   ],
   "source": [
    "list(largest_gain['Profit/Losses'])[0]"
   ]
  },
  {
   "cell_type": "code",
   "execution_count": 31,
   "id": "6ff7b3af",
   "metadata": {},
   "outputs": [],
   "source": [
    "output = \"pybank_analysis.txt\"\n",
    "write_budget_data = f\"{output}\"\n",
    "\n",
    "with open(write_budget_data, mode='w') as file:\n",
    "    file.write(f\"Financial Analysis:\\n\")\n",
    "    file.write(\"-------------------------------------------------------\\n\")\n",
    "    file.write(f\"Total Months: {number_months}\\n\")\n",
    "    file.write(f\"Total Revenue: {total_pl} USD\\n\")\n",
    "    file.write(f\"Average Revenue Change: {round(avg_diff,2)} USD\\n\")\n",
    "    file.write(f\"Greatest Increase in Revenue: {list(largest_gain['Date'])[0]} {list(largest_gain['Profit/Losses'])[0]} USD\\n\")\n",
    "    file.write(f\"Greatest Decrease in Revenue: {list(greatest_loss['Date'])[0]} {list(greatest_loss['Profit/Losses'])[0]} USD\\n\")\n",
    "    file.write(\"\")"
   ]
  },
  {
   "cell_type": "code",
   "execution_count": null,
   "id": "ecd26a06",
   "metadata": {},
   "outputs": [],
   "source": []
  }
 ],
 "metadata": {
  "kernelspec": {
   "display_name": "Python 3 (ipykernel)",
   "language": "python",
   "name": "python3"
  },
  "language_info": {
   "codemirror_mode": {
    "name": "ipython",
    "version": 3
   },
   "file_extension": ".py",
   "mimetype": "text/x-python",
   "name": "python",
   "nbconvert_exporter": "python",
   "pygments_lexer": "ipython3",
   "version": "3.11.5"
  }
 },
 "nbformat": 4,
 "nbformat_minor": 5
}
