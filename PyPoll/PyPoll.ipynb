{
 "cells": [
  {
   "cell_type": "code",
   "execution_count": 1,
   "id": "31ce1ab6",
   "metadata": {},
   "outputs": [],
   "source": [
    "import pandas as pd\n",
    "import numpy\n",
    "import os\n",
    "import matplotlib as plt"
   ]
  },
  {
   "cell_type": "code",
   "execution_count": 2,
   "id": "989f6502",
   "metadata": {},
   "outputs": [],
   "source": [
    "election_data = pd.read_csv(\"Starter_Code-9/PyPoll/Resources/election_data.csv\")"
   ]
  },
  {
   "cell_type": "code",
   "execution_count": 3,
   "id": "0cd6556e",
   "metadata": {},
   "outputs": [
    {
     "data": {
      "text/html": [
       "<div>\n",
       "<style scoped>\n",
       "    .dataframe tbody tr th:only-of-type {\n",
       "        vertical-align: middle;\n",
       "    }\n",
       "\n",
       "    .dataframe tbody tr th {\n",
       "        vertical-align: top;\n",
       "    }\n",
       "\n",
       "    .dataframe thead th {\n",
       "        text-align: right;\n",
       "    }\n",
       "</style>\n",
       "<table border=\"1\" class=\"dataframe\">\n",
       "  <thead>\n",
       "    <tr style=\"text-align: right;\">\n",
       "      <th></th>\n",
       "      <th>Ballot ID</th>\n",
       "      <th>County</th>\n",
       "      <th>Candidate</th>\n",
       "    </tr>\n",
       "  </thead>\n",
       "  <tbody>\n",
       "    <tr>\n",
       "      <th>0</th>\n",
       "      <td>1323913</td>\n",
       "      <td>Jefferson</td>\n",
       "      <td>Charles Casper Stockham</td>\n",
       "    </tr>\n",
       "    <tr>\n",
       "      <th>1</th>\n",
       "      <td>1005842</td>\n",
       "      <td>Jefferson</td>\n",
       "      <td>Charles Casper Stockham</td>\n",
       "    </tr>\n",
       "    <tr>\n",
       "      <th>2</th>\n",
       "      <td>1880345</td>\n",
       "      <td>Jefferson</td>\n",
       "      <td>Charles Casper Stockham</td>\n",
       "    </tr>\n",
       "    <tr>\n",
       "      <th>3</th>\n",
       "      <td>1600337</td>\n",
       "      <td>Jefferson</td>\n",
       "      <td>Charles Casper Stockham</td>\n",
       "    </tr>\n",
       "    <tr>\n",
       "      <th>4</th>\n",
       "      <td>1835994</td>\n",
       "      <td>Jefferson</td>\n",
       "      <td>Charles Casper Stockham</td>\n",
       "    </tr>\n",
       "    <tr>\n",
       "      <th>...</th>\n",
       "      <td>...</td>\n",
       "      <td>...</td>\n",
       "      <td>...</td>\n",
       "    </tr>\n",
       "    <tr>\n",
       "      <th>369706</th>\n",
       "      <td>4714953</td>\n",
       "      <td>Arapahoe</td>\n",
       "      <td>Raymon Anthony Doane</td>\n",
       "    </tr>\n",
       "    <tr>\n",
       "      <th>369707</th>\n",
       "      <td>4497542</td>\n",
       "      <td>Arapahoe</td>\n",
       "      <td>Raymon Anthony Doane</td>\n",
       "    </tr>\n",
       "    <tr>\n",
       "      <th>369708</th>\n",
       "      <td>4085849</td>\n",
       "      <td>Arapahoe</td>\n",
       "      <td>Raymon Anthony Doane</td>\n",
       "    </tr>\n",
       "    <tr>\n",
       "      <th>369709</th>\n",
       "      <td>4592018</td>\n",
       "      <td>Arapahoe</td>\n",
       "      <td>Raymon Anthony Doane</td>\n",
       "    </tr>\n",
       "    <tr>\n",
       "      <th>369710</th>\n",
       "      <td>4660518</td>\n",
       "      <td>Arapahoe</td>\n",
       "      <td>Raymon Anthony Doane</td>\n",
       "    </tr>\n",
       "  </tbody>\n",
       "</table>\n",
       "<p>369711 rows × 3 columns</p>\n",
       "</div>"
      ],
      "text/plain": [
       "        Ballot ID     County                Candidate\n",
       "0         1323913  Jefferson  Charles Casper Stockham\n",
       "1         1005842  Jefferson  Charles Casper Stockham\n",
       "2         1880345  Jefferson  Charles Casper Stockham\n",
       "3         1600337  Jefferson  Charles Casper Stockham\n",
       "4         1835994  Jefferson  Charles Casper Stockham\n",
       "...           ...        ...                      ...\n",
       "369706    4714953   Arapahoe     Raymon Anthony Doane\n",
       "369707    4497542   Arapahoe     Raymon Anthony Doane\n",
       "369708    4085849   Arapahoe     Raymon Anthony Doane\n",
       "369709    4592018   Arapahoe     Raymon Anthony Doane\n",
       "369710    4660518   Arapahoe     Raymon Anthony Doane\n",
       "\n",
       "[369711 rows x 3 columns]"
      ]
     },
     "execution_count": 3,
     "metadata": {},
     "output_type": "execute_result"
    }
   ],
   "source": [
    "election_data"
   ]
  },
  {
   "cell_type": "code",
   "execution_count": 4,
   "id": "b1a6b236",
   "metadata": {},
   "outputs": [
    {
     "data": {
      "text/plain": [
       "369711"
      ]
     },
     "execution_count": 4,
     "metadata": {},
     "output_type": "execute_result"
    }
   ],
   "source": [
    "num_votes = len(election_data[\"Ballot ID\"].unique())\n",
    "num_votes"
   ]
  },
  {
   "cell_type": "code",
   "execution_count": 5,
   "id": "894b36d2",
   "metadata": {},
   "outputs": [
    {
     "name": "stdout",
     "output_type": "stream",
     "text": [
      "['Charles Casper Stockham' 'Diana DeGette' 'Raymon Anthony Doane']\n"
     ]
    }
   ],
   "source": [
    "Candidate_Name = election_data[\"Candidate\"].unique()\n",
    "print(Candidate_Name)"
   ]
  },
  {
   "cell_type": "code",
   "execution_count": 6,
   "id": "8ddd3e54",
   "metadata": {},
   "outputs": [],
   "source": [
    "\n",
    "candidate_dat = election_data.groupby(\"Candidate\").count()"
   ]
  },
  {
   "cell_type": "code",
   "execution_count": 7,
   "id": "cdf50af9",
   "metadata": {},
   "outputs": [
    {
     "data": {
      "text/html": [
       "<div>\n",
       "<style scoped>\n",
       "    .dataframe tbody tr th:only-of-type {\n",
       "        vertical-align: middle;\n",
       "    }\n",
       "\n",
       "    .dataframe tbody tr th {\n",
       "        vertical-align: top;\n",
       "    }\n",
       "\n",
       "    .dataframe thead th {\n",
       "        text-align: right;\n",
       "    }\n",
       "</style>\n",
       "<table border=\"1\" class=\"dataframe\">\n",
       "  <thead>\n",
       "    <tr style=\"text-align: right;\">\n",
       "      <th></th>\n",
       "      <th>Ballot ID</th>\n",
       "      <th>County</th>\n",
       "    </tr>\n",
       "    <tr>\n",
       "      <th>Candidate</th>\n",
       "      <th></th>\n",
       "      <th></th>\n",
       "    </tr>\n",
       "  </thead>\n",
       "  <tbody>\n",
       "    <tr>\n",
       "      <th>Charles Casper Stockham</th>\n",
       "      <td>85213</td>\n",
       "      <td>85213</td>\n",
       "    </tr>\n",
       "    <tr>\n",
       "      <th>Diana DeGette</th>\n",
       "      <td>272892</td>\n",
       "      <td>272892</td>\n",
       "    </tr>\n",
       "    <tr>\n",
       "      <th>Raymon Anthony Doane</th>\n",
       "      <td>11606</td>\n",
       "      <td>11606</td>\n",
       "    </tr>\n",
       "  </tbody>\n",
       "</table>\n",
       "</div>"
      ],
      "text/plain": [
       "                         Ballot ID  County\n",
       "Candidate                                 \n",
       "Charles Casper Stockham      85213   85213\n",
       "Diana DeGette               272892  272892\n",
       "Raymon Anthony Doane         11606   11606"
      ]
     },
     "execution_count": 7,
     "metadata": {},
     "output_type": "execute_result"
    }
   ],
   "source": [
    "candidate_dat"
   ]
  },
  {
   "cell_type": "code",
   "execution_count": 8,
   "id": "90d6a4e5",
   "metadata": {},
   "outputs": [
    {
     "name": "stdout",
     "output_type": "stream",
     "text": [
      "85213\n",
      "272892\n",
      "11606\n"
     ]
    },
    {
     "data": {
      "text/plain": [
       "[None, None, None]"
      ]
     },
     "execution_count": 8,
     "metadata": {},
     "output_type": "execute_result"
    }
   ],
   "source": [
    "[print(c) for c in candidate_dat[\"Ballot ID\"]]"
   ]
  },
  {
   "cell_type": "code",
   "execution_count": 23,
   "id": "766d7a62",
   "metadata": {},
   "outputs": [
    {
     "name": "stderr",
     "output_type": "stream",
     "text": [
      "/var/folders/l9/f9xn710n3b5084fcfs0pw7800000gn/T/ipykernel_68237/28669825.py:1: FutureWarning: Series.__getitem__ treating keys as positions is deprecated. In a future version, integer keys will always be treated as labels (consistent with DataFrame behavior). To access a value by position, use `ser.iloc[pos]`\n",
      "  ccs = candidate_dat[\"Ballot ID\"][0]\n",
      "/var/folders/l9/f9xn710n3b5084fcfs0pw7800000gn/T/ipykernel_68237/28669825.py:2: FutureWarning: Series.__getitem__ treating keys as positions is deprecated. In a future version, integer keys will always be treated as labels (consistent with DataFrame behavior). To access a value by position, use `ser.iloc[pos]`\n",
      "  ddg = candidate_dat[\"Ballot ID\"][1]\n",
      "/var/folders/l9/f9xn710n3b5084fcfs0pw7800000gn/T/ipykernel_68237/28669825.py:3: FutureWarning: Series.__getitem__ treating keys as positions is deprecated. In a future version, integer keys will always be treated as labels (consistent with DataFrame behavior). To access a value by position, use `ser.iloc[pos]`\n",
      "  rad = candidate_dat[\"Ballot ID\"][2]\n"
     ]
    }
   ],
   "source": [
    "ccs = candidate_dat[\"Ballot ID\"][0]\n",
    "ddg = candidate_dat[\"Ballot ID\"][1]\n",
    "rad = candidate_dat[\"Ballot ID\"][2]"
   ]
  },
  {
   "cell_type": "code",
   "execution_count": 9,
   "id": "54c77d5d",
   "metadata": {},
   "outputs": [
    {
     "name": "stderr",
     "output_type": "stream",
     "text": [
      "/var/folders/l9/f9xn710n3b5084fcfs0pw7800000gn/T/ipykernel_68237/3753569690.py:1: FutureWarning: Series.__getitem__ treating keys as positions is deprecated. In a future version, integer keys will always be treated as labels (consistent with DataFrame behavior). To access a value by position, use `ser.iloc[pos]`\n",
      "  vote_percent_CCS = candidate_dat[\"Ballot ID\"][0]/num_votes*100\n"
     ]
    },
    {
     "data": {
      "text/plain": [
       "23.04854332167558"
      ]
     },
     "execution_count": 9,
     "metadata": {},
     "output_type": "execute_result"
    }
   ],
   "source": [
    "vote_percent_CCS = candidate_dat[\"Ballot ID\"][0]/num_votes*100\n",
    "vote_percent_CCS "
   ]
  },
  {
   "cell_type": "code",
   "execution_count": 10,
   "id": "89903b75",
   "metadata": {},
   "outputs": [
    {
     "name": "stderr",
     "output_type": "stream",
     "text": [
      "/var/folders/l9/f9xn710n3b5084fcfs0pw7800000gn/T/ipykernel_68237/3238561882.py:1: FutureWarning: Series.__getitem__ treating keys as positions is deprecated. In a future version, integer keys will always be treated as labels (consistent with DataFrame behavior). To access a value by position, use `ser.iloc[pos]`\n",
      "  vote_percent_DDG = candidate_dat[\"Ballot ID\"][1]/num_votes*100\n"
     ]
    },
    {
     "data": {
      "text/plain": [
       "73.81224794501652"
      ]
     },
     "execution_count": 10,
     "metadata": {},
     "output_type": "execute_result"
    }
   ],
   "source": [
    "vote_percent_DDG = candidate_dat[\"Ballot ID\"][1]/num_votes*100\n",
    "vote_percent_DDG"
   ]
  },
  {
   "cell_type": "code",
   "execution_count": 11,
   "id": "22c4240c",
   "metadata": {},
   "outputs": [
    {
     "name": "stderr",
     "output_type": "stream",
     "text": [
      "/var/folders/l9/f9xn710n3b5084fcfs0pw7800000gn/T/ipykernel_68237/1009045485.py:1: FutureWarning: Series.__getitem__ treating keys as positions is deprecated. In a future version, integer keys will always be treated as labels (consistent with DataFrame behavior). To access a value by position, use `ser.iloc[pos]`\n",
      "  vote_percent_RAD = candidate_dat[\"Ballot ID\"][2]/num_votes*100\n"
     ]
    },
    {
     "data": {
      "text/plain": [
       "3.1392087333079077"
      ]
     },
     "execution_count": 11,
     "metadata": {},
     "output_type": "execute_result"
    }
   ],
   "source": [
    "vote_percent_RAD = candidate_dat[\"Ballot ID\"][2]/num_votes*100\n",
    "vote_percent_RAD"
   ]
  },
  {
   "cell_type": "code",
   "execution_count": 28,
   "id": "bf260c68",
   "metadata": {},
   "outputs": [
    {
     "name": "stdout",
     "output_type": "stream",
     "text": [
      "Charles Casper Stockham: 23.05 % of votes ( 85213 )\n"
     ]
    }
   ],
   "source": [
    "print('Charles Casper Stockham:', round(vote_percent_CCS, 2), \"% of votes\", \"(\",ccs, \")\")"
   ]
  },
  {
   "cell_type": "code",
   "execution_count": 29,
   "id": "e0176afa",
   "metadata": {},
   "outputs": [
    {
     "name": "stdout",
     "output_type": "stream",
     "text": [
      "Diana DeGette: 73.81 % of votes ( 272892 )\n"
     ]
    }
   ],
   "source": [
    "print(\"Diana DeGette:\", round(vote_percent_DDG, 2), \"% of votes\",  \"(\",ddg, \")\")"
   ]
  },
  {
   "cell_type": "code",
   "execution_count": 30,
   "id": "08794cb9",
   "metadata": {},
   "outputs": [
    {
     "name": "stdout",
     "output_type": "stream",
     "text": [
      "Raymon Anthony Doane: 3.14 % of votes ( 11606 )\n"
     ]
    }
   ],
   "source": [
    "print(\"Raymon Anthony Doane:\", round(vote_percent_RAD, 2), \"% of votes\",  \"(\",rad, \")\")"
   ]
  },
  {
   "cell_type": "code",
   "execution_count": 15,
   "id": "73cc4d46",
   "metadata": {},
   "outputs": [],
   "source": [
    "max_vote = max(vote_percent_CCS, vote_percent_DDG, vote_percent_RAD)"
   ]
  },
  {
   "cell_type": "code",
   "execution_count": 16,
   "id": "65d4680f",
   "metadata": {},
   "outputs": [
    {
     "name": "stdout",
     "output_type": "stream",
     "text": [
      "73.81224794501652 Highest Number of Votes: Diane DeGette\n"
     ]
    }
   ],
   "source": [
    "print(max_vote, \"Highest Number of Votes: Diane DeGette\")"
   ]
  },
  {
   "cell_type": "code",
   "execution_count": 26,
   "id": "201817fb",
   "metadata": {},
   "outputs": [],
   "source": [
    "output = \"PyPoll_analysis.txt\"\n",
    "write_vote_data = f\"{output}\"\n",
    "\n",
    "with open(write_vote_data, mode='w') as file:\n",
    "    file.write(f\"Election Results:\\n\")\n",
    "    file.write(\"-------------------------------------------------------\\n\")\n",
    "    file.write(f\"Total Votes: {num_votes}\\n\")\n",
    "    file.write(f\"Charles Casper Stockham: {round(vote_percent_CCS, 2)}%  - {ccs} votes\\n\")\n",
    "    file.write(f\"Diana DeGette: {round(vote_percent_DDG, 2)}% - {ddg} votes\\n\")\n",
    "    file.write(f\"Raymon Anthony Doane: {round(vote_percent_RAD, 2)}% - {rad} votes\\n\")\n",
    "    file.write(f\"Winner: Diane DeGette\\n\")\n",
    "    file.write(\"\")"
   ]
  },
  {
   "cell_type": "code",
   "execution_count": null,
   "id": "f5a25204",
   "metadata": {},
   "outputs": [],
   "source": []
  }
 ],
 "metadata": {
  "kernelspec": {
   "display_name": "Python 3 (ipykernel)",
   "language": "python",
   "name": "python3"
  },
  "language_info": {
   "codemirror_mode": {
    "name": "ipython",
    "version": 3
   },
   "file_extension": ".py",
   "mimetype": "text/x-python",
   "name": "python",
   "nbconvert_exporter": "python",
   "pygments_lexer": "ipython3",
   "version": "3.11.5"
  }
 },
 "nbformat": 4,
 "nbformat_minor": 5
}
